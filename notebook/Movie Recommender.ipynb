{
 "cells": [
  {
   "cell_type": "code",
   "execution_count": 1,
   "id": "f8e1a4b7-a238-44b8-959d-11e713903301",
   "metadata": {},
   "outputs": [
    {
     "name": "stderr",
     "output_type": "stream",
     "text": [
      "C:\\Users\\dell\\AppData\\Local\\Programs\\Python\\Python312\\Lib\\site-packages\\tqdm\\auto.py:21: TqdmWarning: IProgress not found. Please update jupyter and ipywidgets. See https://ipywidgets.readthedocs.io/en/stable/user_install.html\n",
      "  from .autonotebook import tqdm as notebook_tqdm\n"
     ]
    }
   ],
   "source": [
    "import pandas as pd\n",
    "import faiss\n",
    "import pickle\n",
    "from sentence_transformers import SentenceTransformer\n",
    "import os"
   ]
  },
  {
   "cell_type": "code",
   "execution_count": 2,
   "id": "ac6cb209-f85a-4ab3-931d-958742316d40",
   "metadata": {},
   "outputs": [],
   "source": [
    "BASE_DIR = os.path.abspath('..')\n",
    "CSV_PATH = os.path.join(BASE_DIR, 'data', 'processed_data', 'movie', 'movie.csv')\n",
    "ARTIFACT_DIR = os.path.join(BASE_DIR, 'artifacts', 'movie')\n",
    "os.makedirs(ARTIFACT_DIR, exist_ok=True)"
   ]
  },
  {
   "cell_type": "code",
   "execution_count": 3,
   "id": "d5347cd6-906d-4c42-8c76-06a6135779f9",
   "metadata": {},
   "outputs": [
    {
     "data": {
      "text/html": [
       "<div>\n",
       "<style scoped>\n",
       "    .dataframe tbody tr th:only-of-type {\n",
       "        vertical-align: middle;\n",
       "    }\n",
       "\n",
       "    .dataframe tbody tr th {\n",
       "        vertical-align: top;\n",
       "    }\n",
       "\n",
       "    .dataframe thead th {\n",
       "        text-align: right;\n",
       "    }\n",
       "</style>\n",
       "<table border=\"1\" class=\"dataframe\">\n",
       "  <thead>\n",
       "    <tr style=\"text-align: right;\">\n",
       "      <th></th>\n",
       "      <th>title</th>\n",
       "      <th>genres</th>\n",
       "      <th>release_year</th>\n",
       "      <th>summary</th>\n",
       "    </tr>\n",
       "  </thead>\n",
       "  <tbody>\n",
       "    <tr>\n",
       "      <th>0</th>\n",
       "      <td>The Yards</td>\n",
       "      <td>Crime,Drama</td>\n",
       "      <td>2000</td>\n",
       "      <td>Ex-con Leo tries to go straight, but his plans...</td>\n",
       "    </tr>\n",
       "    <tr>\n",
       "      <th>1</th>\n",
       "      <td>Next Friday</td>\n",
       "      <td>Comedy</td>\n",
       "      <td>2000</td>\n",
       "      <td>A streetwise man flees South Central Los Angel...</td>\n",
       "    </tr>\n",
       "    <tr>\n",
       "      <th>2</th>\n",
       "      <td>Supernova</td>\n",
       "      <td>Adventure,Sci-Fi,Thriller</td>\n",
       "      <td>2000</td>\n",
       "      <td>A deep space rescue and recovery spaceship wit...</td>\n",
       "    </tr>\n",
       "    <tr>\n",
       "      <th>3</th>\n",
       "      <td>Down to You</td>\n",
       "      <td>Comedy,Romance</td>\n",
       "      <td>2000</td>\n",
       "      <td>College students Al and Imogen meet and fall i...</td>\n",
       "    </tr>\n",
       "    <tr>\n",
       "      <th>4</th>\n",
       "      <td>Wirey Spindell</td>\n",
       "      <td>Comedy</td>\n",
       "      <td>2000</td>\n",
       "      <td>A whimsical look back at the life of a man who...</td>\n",
       "    </tr>\n",
       "    <tr>\n",
       "      <th>...</th>\n",
       "      <td>...</td>\n",
       "      <td>...</td>\n",
       "      <td>...</td>\n",
       "      <td>...</td>\n",
       "    </tr>\n",
       "    <tr>\n",
       "      <th>51441</th>\n",
       "      <td>End of the Season</td>\n",
       "      <td>Drama</td>\n",
       "      <td>2017</td>\n",
       "      <td>Becker is a German ex-con trying to hold down ...</td>\n",
       "    </tr>\n",
       "    <tr>\n",
       "      <th>51442</th>\n",
       "      <td>The Monroy Affaire</td>\n",
       "      <td>Drama</td>\n",
       "      <td>2022</td>\n",
       "      <td>NaN</td>\n",
       "    </tr>\n",
       "    <tr>\n",
       "      <th>51443</th>\n",
       "      <td>Shelter in Solitude</td>\n",
       "      <td>Comedy,Drama</td>\n",
       "      <td>2023</td>\n",
       "      <td>A death row prisoner with 10 days left to live...</td>\n",
       "    </tr>\n",
       "    <tr>\n",
       "      <th>51444</th>\n",
       "      <td>Orca</td>\n",
       "      <td>Drama</td>\n",
       "      <td>2023</td>\n",
       "      <td>A young Iranian woman, having reached the lowe...</td>\n",
       "    </tr>\n",
       "    <tr>\n",
       "      <th>51445</th>\n",
       "      <td>Race to the Summit</td>\n",
       "      <td>Action,Adventure,Documentary</td>\n",
       "      <td>2023</td>\n",
       "      <td>Fearless alpine climbers Ueli Steck and Dani A...</td>\n",
       "    </tr>\n",
       "  </tbody>\n",
       "</table>\n",
       "<p>51446 rows × 4 columns</p>\n",
       "</div>"
      ],
      "text/plain": [
       "                     title                        genres  release_year  \\\n",
       "0                The Yards                   Crime,Drama          2000   \n",
       "1              Next Friday                        Comedy          2000   \n",
       "2                Supernova     Adventure,Sci-Fi,Thriller          2000   \n",
       "3              Down to You                Comedy,Romance          2000   \n",
       "4           Wirey Spindell                        Comedy          2000   \n",
       "...                    ...                           ...           ...   \n",
       "51441    End of the Season                         Drama          2017   \n",
       "51442   The Monroy Affaire                         Drama          2022   \n",
       "51443  Shelter in Solitude                  Comedy,Drama          2023   \n",
       "51444                 Orca                         Drama          2023   \n",
       "51445   Race to the Summit  Action,Adventure,Documentary          2023   \n",
       "\n",
       "                                                 summary  \n",
       "0      Ex-con Leo tries to go straight, but his plans...  \n",
       "1      A streetwise man flees South Central Los Angel...  \n",
       "2      A deep space rescue and recovery spaceship wit...  \n",
       "3      College students Al and Imogen meet and fall i...  \n",
       "4      A whimsical look back at the life of a man who...  \n",
       "...                                                  ...  \n",
       "51441  Becker is a German ex-con trying to hold down ...  \n",
       "51442                                                NaN  \n",
       "51443  A death row prisoner with 10 days left to live...  \n",
       "51444  A young Iranian woman, having reached the lowe...  \n",
       "51445  Fearless alpine climbers Ueli Steck and Dani A...  \n",
       "\n",
       "[51446 rows x 4 columns]"
      ]
     },
     "execution_count": 3,
     "metadata": {},
     "output_type": "execute_result"
    }
   ],
   "source": [
    "df = pd.read_csv(CSV_PATH)\n",
    "df"
   ]
  },
  {
   "cell_type": "code",
   "execution_count": 31,
   "id": "70c3c0fa-f1fa-42ea-ba69-ef106c434764",
   "metadata": {},
   "outputs": [],
   "source": [
    "df = df.drop_duplicates(subset='title')"
   ]
  },
  {
   "cell_type": "code",
   "execution_count": 32,
   "id": "06fd00ec-e013-4556-a655-54247a60ac92",
   "metadata": {},
   "outputs": [
    {
     "name": "stdout",
     "output_type": "stream",
     "text": [
      "<class 'pandas.core.frame.DataFrame'>\n",
      "Index: 48600 entries, 0 to 51445\n",
      "Data columns (total 4 columns):\n",
      " #   Column        Non-Null Count  Dtype \n",
      "---  ------        --------------  ----- \n",
      " 0   title         48600 non-null  object\n",
      " 1   genres        48600 non-null  object\n",
      " 2   release_year  48600 non-null  int64 \n",
      " 3   summary       47976 non-null  object\n",
      "dtypes: int64(1), object(3)\n",
      "memory usage: 1.9+ MB\n"
     ]
    }
   ],
   "source": [
    "df.info()"
   ]
  },
  {
   "cell_type": "code",
   "execution_count": 33,
   "id": "7307028c-a313-4437-9f39-0e76aaf67e95",
   "metadata": {},
   "outputs": [
    {
     "name": "stderr",
     "output_type": "stream",
     "text": [
      "C:\\Users\\dell\\AppData\\Local\\Temp\\ipykernel_6064\\178950835.py:1: SettingWithCopyWarning: \n",
      "A value is trying to be set on a copy of a slice from a DataFrame.\n",
      "Try using .loc[row_indexer,col_indexer] = value instead\n",
      "\n",
      "See the caveats in the documentation: https://pandas.pydata.org/pandas-docs/stable/user_guide/indexing.html#returning-a-view-versus-a-copy\n",
      "  df['tags'] = df['title'].fillna('') + ' ' + df['genres'].fillna('') + ' ' + df['summary'].fillna('') + ' ' + df['release_year'].fillna(0).astype(str)\n"
     ]
    }
   ],
   "source": [
    "df['tags'] = df['title'].fillna('') + ' ' + df['genres'].fillna('') + ' ' + df['summary'].fillna('') + ' ' + df['release_year'].fillna(0).astype(str)"
   ]
  },
  {
   "cell_type": "code",
   "execution_count": 34,
   "id": "8c202539-29df-4d14-813c-8000b902b081",
   "metadata": {},
   "outputs": [
    {
     "name": "stderr",
     "output_type": "stream",
     "text": [
      "Batches: 100%|█████████████████████████████████████████████████████████████████████| 1519/1519 [51:14<00:00,  2.02s/it]\n"
     ]
    }
   ],
   "source": [
    "model = SentenceTransformer('all-MiniLM-L6-v2')\n",
    "embeddings = model.encode(df['tags'].tolist(), show_progress_bar=True, convert_to_numpy=True)"
   ]
  },
  {
   "cell_type": "code",
   "execution_count": 35,
   "id": "cbecb9e4-4099-4f63-b5db-b3740cbda8bc",
   "metadata": {},
   "outputs": [],
   "source": [
    "index = faiss.IndexFlatL2(embeddings.shape[1])\n",
    "index.add(embeddings)"
   ]
  },
  {
   "cell_type": "code",
   "execution_count": 36,
   "id": "5a446862-3f9e-4e5f-b4ae-c401c288e047",
   "metadata": {},
   "outputs": [],
   "source": [
    "pickle.dump(df, open(os.path.join(ARTIFACT_DIR, 'data.pkl'), 'wb'))\n",
    "pickle.dump(model, open(os.path.join(ARTIFACT_DIR, 'sbert_model.pkl'), 'wb'))\n",
    "faiss.write_index(index, os.path.join(ARTIFACT_DIR, 'faiss_index.index'))"
   ]
  },
  {
   "cell_type": "code",
   "execution_count": 7,
   "id": "aaecd4f0-c73f-4447-904a-d640b7963c3b",
   "metadata": {},
   "outputs": [],
   "source": [
    "import os\n",
    "import pickle\n",
    "import faiss\n",
    "import numpy as np\n",
    "from rapidfuzz import process\n",
    "\n",
    "# Set global BASE_DIR\n",
    "BASE_DIR = os.path.abspath('..')  # adjust if needed\n",
    "\n",
    "def recommend_movie(title_query, top_k=5):\n",
    "    ARTIFACT_DIR = os.path.join(BASE_DIR, 'artifacts', 'movie')\n",
    "    \n",
    "    # Load necessary files\n",
    "    df = pickle.load(open(os.path.join(ARTIFACT_DIR, 'data.pkl'), 'rb'))\n",
    "    model = pickle.load(open(os.path.join(ARTIFACT_DIR, 'sbert_model.pkl'), 'rb'))\n",
    "    index = faiss.read_index(os.path.join(ARTIFACT_DIR, 'faiss_index.index'))\n",
    "    \n",
    "    # STEP 1: Try exact match\n",
    "    matches = df[df['title'].str.lower() == title_query.lower()]\n",
    "    if not matches.empty:\n",
    "        idx = matches.index[0]\n",
    "        query = df.loc[idx, 'tags']\n",
    "        query_vec = model.encode([query], convert_to_numpy=True)\n",
    "        _, I = index.search(query_vec, top_k + 1)\n",
    "        return df.iloc[I[0][1:]][['title', 'genres', 'summary']]\n",
    "    \n",
    "    # STEP 2: Fallback to RapidFuzz for close match\n",
    "    all_titles = df['title'].fillna('').tolist()\n",
    "    best_match, score, idx = process.extractOne(title_query, all_titles)\n",
    "    print(f\"⚠️ Title not found. Using closest match: '{best_match}' (Score: {score:.2f})\")\n",
    "    \n",
    "    # Re-run SBERT search using the best match\n",
    "    query = df.loc[idx, 'tags']\n",
    "    query_vec = model.encode([query], convert_to_numpy=True)\n",
    "    _, I = index.search(query_vec, top_k + 1)\n",
    "    return df.iloc[I[0][1:]][['title', 'genres', 'summary']]"
   ]
  },
  {
   "cell_type": "code",
   "execution_count": 8,
   "id": "4d578b2a-16ac-4cd7-a758-057730b269fd",
   "metadata": {},
   "outputs": [
    {
     "name": "stdout",
     "output_type": "stream",
     "text": [
      "⚠️ Title not found. Using closest match: 'The Yards' (Score: 90.00)\n"
     ]
    },
    {
     "data": {
      "text/html": [
       "<div>\n",
       "<style scoped>\n",
       "    .dataframe tbody tr th:only-of-type {\n",
       "        vertical-align: middle;\n",
       "    }\n",
       "\n",
       "    .dataframe tbody tr th {\n",
       "        vertical-align: top;\n",
       "    }\n",
       "\n",
       "    .dataframe thead th {\n",
       "        text-align: right;\n",
       "    }\n",
       "</style>\n",
       "<table border=\"1\" class=\"dataframe\">\n",
       "  <thead>\n",
       "    <tr style=\"text-align: right;\">\n",
       "      <th></th>\n",
       "      <th>title</th>\n",
       "      <th>genres</th>\n",
       "      <th>summary</th>\n",
       "    </tr>\n",
       "  </thead>\n",
       "  <tbody>\n",
       "    <tr>\n",
       "      <th>138</th>\n",
       "      <td>Circus</td>\n",
       "      <td>Crime,Drama,Thriller</td>\n",
       "      <td>Conman Leo Garfield is in hot water after acce...</td>\n",
       "    </tr>\n",
       "    <tr>\n",
       "      <th>3105</th>\n",
       "      <td>The Contract</td>\n",
       "      <td>Crime,Drama,Thriller</td>\n",
       "      <td>A man and his son encounter an assassin in the...</td>\n",
       "    </tr>\n",
       "    <tr>\n",
       "      <th>18817</th>\n",
       "      <td>The Yard</td>\n",
       "      <td>(no genres listed)</td>\n",
       "      <td>A poet and writer gets fired from his job at a...</td>\n",
       "    </tr>\n",
       "    <tr>\n",
       "      <th>9045</th>\n",
       "      <td>The Bag Man</td>\n",
       "      <td>Crime,Drama,Thriller</td>\n",
       "      <td>A criminal bides his time at a seedy motel, wa...</td>\n",
       "    </tr>\n",
       "    <tr>\n",
       "      <th>2709</th>\n",
       "      <td>Waist Deep</td>\n",
       "      <td>Action,Crime,Drama,Thriller</td>\n",
       "      <td>An ex-convict (Tyrese) gets tangled up with a ...</td>\n",
       "    </tr>\n",
       "  </tbody>\n",
       "</table>\n",
       "</div>"
      ],
      "text/plain": [
       "              title                       genres  \\\n",
       "138          Circus         Crime,Drama,Thriller   \n",
       "3105   The Contract         Crime,Drama,Thriller   \n",
       "18817      The Yard           (no genres listed)   \n",
       "9045    The Bag Man         Crime,Drama,Thriller   \n",
       "2709     Waist Deep  Action,Crime,Drama,Thriller   \n",
       "\n",
       "                                                 summary  \n",
       "138    Conman Leo Garfield is in hot water after acce...  \n",
       "3105   A man and his son encounter an assassin in the...  \n",
       "18817  A poet and writer gets fired from his job at a...  \n",
       "9045   A criminal bides his time at a seedy motel, wa...  \n",
       "2709   An ex-convict (Tyrese) gets tangled up with a ...  "
      ]
     },
     "execution_count": 8,
     "metadata": {},
     "output_type": "execute_result"
    }
   ],
   "source": [
    "recommend_movie(\"Yards\")"
   ]
  },
  {
   "cell_type": "code",
   "execution_count": null,
   "id": "fefc4563-c923-4dfd-9b9b-bbc6445c95ec",
   "metadata": {},
   "outputs": [],
   "source": []
  }
 ],
 "metadata": {
  "kernelspec": {
   "display_name": "Python 3 (ipykernel)",
   "language": "python",
   "name": "python3"
  },
  "language_info": {
   "codemirror_mode": {
    "name": "ipython",
    "version": 3
   },
   "file_extension": ".py",
   "mimetype": "text/x-python",
   "name": "python",
   "nbconvert_exporter": "python",
   "pygments_lexer": "ipython3",
   "version": "3.12.5"
  }
 },
 "nbformat": 4,
 "nbformat_minor": 5
}

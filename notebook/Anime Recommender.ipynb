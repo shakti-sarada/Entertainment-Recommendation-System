{
 "cells": [
  {
   "cell_type": "code",
   "execution_count": 1,
   "id": "ac97b71d-fbb7-4bd3-aaf0-da66fa808b9d",
   "metadata": {},
   "outputs": [
    {
     "name": "stderr",
     "output_type": "stream",
     "text": [
      "C:\\Users\\dell\\AppData\\Local\\Programs\\Python\\Python312\\Lib\\site-packages\\tqdm\\auto.py:21: TqdmWarning: IProgress not found. Please update jupyter and ipywidgets. See https://ipywidgets.readthedocs.io/en/stable/user_install.html\n",
      "  from .autonotebook import tqdm as notebook_tqdm\n"
     ]
    }
   ],
   "source": [
    "import pandas as pd\n",
    "import faiss\n",
    "import pickle\n",
    "from sentence_transformers import SentenceTransformer\n",
    "import os"
   ]
  },
  {
   "cell_type": "code",
   "execution_count": 2,
   "id": "6a20d9af-ba74-4b0a-8c6d-fdca39b78333",
   "metadata": {},
   "outputs": [],
   "source": [
    "BASE_DIR = os.path.abspath('..')  # Adjust if running from different location\n",
    "CSV_PATH = os.path.join(BASE_DIR, 'data', 'processed_data', 'anime', 'anime.csv')\n",
    "ARTIFACT_DIR = os.path.join(BASE_DIR, 'artifacts', 'anime')\n",
    "os.makedirs(ARTIFACT_DIR, exist_ok=True)"
   ]
  },
  {
   "cell_type": "code",
   "execution_count": 3,
   "id": "5ff926f7-ce10-4368-8ba6-5c24b7a1c359",
   "metadata": {},
   "outputs": [],
   "source": [
    "df = pd.read_csv(CSV_PATH)"
   ]
  },
  {
   "cell_type": "code",
   "execution_count": 8,
   "id": "122083d6-c628-4123-addd-8c30f32eb90f",
   "metadata": {},
   "outputs": [],
   "source": [
    "df['tags'] = df['title'].fillna('') + ' ' + df['genres'].fillna('') + ' ' + df['synopsis'].fillna('')"
   ]
  },
  {
   "cell_type": "code",
   "execution_count": 9,
   "id": "ad1180df-d04f-4787-982f-48a0916c0243",
   "metadata": {},
   "outputs": [
    {
     "name": "stderr",
     "output_type": "stream",
     "text": [
      "C:\\Users\\dell\\AppData\\Local\\Programs\\Python\\Python312\\Lib\\site-packages\\huggingface_hub\\file_download.py:143: UserWarning: `huggingface_hub` cache-system uses symlinks by default to efficiently store duplicated files but your machine does not support them in C:\\Users\\dell\\.cache\\huggingface\\hub\\models--sentence-transformers--all-MiniLM-L6-v2. Caching files will still work but in a degraded version that might require more space on your disk. This warning can be disabled by setting the `HF_HUB_DISABLE_SYMLINKS_WARNING` environment variable. For more details, see https://huggingface.co/docs/huggingface_hub/how-to-cache#limitations.\n",
      "To support symlinks on Windows, you either need to activate Developer Mode or to run Python as an administrator. In order to activate developer mode, see this article: https://docs.microsoft.com/en-us/windows/apps/get-started/enable-your-device-for-development\n",
      "  warnings.warn(message)\n",
      "Xet Storage is enabled for this repo, but the 'hf_xet' package is not installed. Falling back to regular HTTP download. For better performance, install the package with: `pip install huggingface_hub[hf_xet]` or `pip install hf_xet`\n",
      "Batches: 100%|███████████████████████████████████████████████████████████████████████| 794/794 [10:05<00:00,  1.31it/s]\n"
     ]
    }
   ],
   "source": [
    "# Generate embeddings\n",
    "model = SentenceTransformer('all-MiniLM-L6-v2')\n",
    "embeddings = model.encode(df['tags'].tolist(), show_progress_bar=True, convert_to_numpy=True)"
   ]
  },
  {
   "cell_type": "code",
   "execution_count": 10,
   "id": "496ef54f-df9c-423b-8983-6c18e78709c8",
   "metadata": {},
   "outputs": [
    {
     "name": "stdout",
     "output_type": "stream",
     "text": [
      "Collecting hf_xet\n",
      "  Downloading hf_xet-1.1.3-cp37-abi3-win_amd64.whl.metadata (883 bytes)\n",
      "Downloading hf_xet-1.1.3-cp37-abi3-win_amd64.whl (2.3 MB)\n",
      "   ---------------------------------------- 0.0/2.3 MB ? eta -:--:--\n",
      "   ---------------------------------------- 0.0/2.3 MB ? eta -:--:--\n",
      "   ---------------------------------------- 0.0/2.3 MB ? eta -:--:--\n",
      "   --------- ------------------------------ 0.5/2.3 MB 4.2 MB/s eta 0:00:01\n",
      "   --------- ------------------------------ 0.5/2.3 MB 4.2 MB/s eta 0:00:01\n",
      "   ------------------ --------------------- 1.0/2.3 MB 2.1 MB/s eta 0:00:01\n",
      "   --------------------------- ------------ 1.6/2.3 MB 2.0 MB/s eta 0:00:01\n",
      "   ---------------------------------------- 2.3/2.3 MB 2.2 MB/s eta 0:00:00\n",
      "Installing collected packages: hf_xet\n",
      "Successfully installed hf_xet-1.1.3\n",
      "Note: you may need to restart the kernel to use updated packages.\n"
     ]
    },
    {
     "name": "stderr",
     "output_type": "stream",
     "text": [
      "The value specified in an AutoRun registry key could not be parsed.\n",
      "\n",
      "[notice] A new release of pip is available: 24.2 -> 25.1.1\n",
      "[notice] To update, run: python.exe -m pip install --upgrade pip\n"
     ]
    }
   ],
   "source": [
    "pip install hf_xet"
   ]
  },
  {
   "cell_type": "code",
   "execution_count": 11,
   "id": "e900176d-2794-4e41-b3b1-31d3ef02f600",
   "metadata": {},
   "outputs": [],
   "source": [
    "# Build FAISS index\n",
    "index = faiss.IndexFlatL2(embeddings.shape[1])\n",
    "index.add(embeddings)"
   ]
  },
  {
   "cell_type": "code",
   "execution_count": 12,
   "id": "59cdca9a-922e-45a9-a2af-061a441e33d8",
   "metadata": {},
   "outputs": [],
   "source": [
    "# Save files\n",
    "pickle.dump(df, open(os.path.join(ARTIFACT_DIR, 'data.pkl'), 'wb'))\n",
    "pickle.dump(model, open(os.path.join(ARTIFACT_DIR, 'sbert_model.pkl'), 'wb'))\n",
    "faiss.write_index(index, os.path.join(ARTIFACT_DIR, 'faiss_index.index'))"
   ]
  },
  {
   "cell_type": "code",
   "execution_count": 4,
   "id": "6231aca5-9486-4d08-8568-2ca8c49b2ee7",
   "metadata": {},
   "outputs": [],
   "source": [
    "from rapidfuzz import process\n",
    "import numpy as np\n",
    "import faiss\n",
    "import pickle\n",
    "import os\n",
    "\n",
    "def recommend(title_query, top_k=10):\n",
    "    ARTIFACT_DIR = os.path.join(BASE_DIR, 'artifacts', 'anime')\n",
    "\n",
    "    df = pickle.load(open(os.path.join(ARTIFACT_DIR, 'data.pkl'), 'rb'))\n",
    "    model = pickle.load(open(os.path.join(ARTIFACT_DIR, 'sbert_model.pkl'), 'rb'))\n",
    "    index = faiss.read_index(os.path.join(ARTIFACT_DIR, 'faiss_index.index'))\n",
    "\n",
    "    # Step 1: Exact match\n",
    "    matches = df[df['title'].str.lower() == title_query.lower()]\n",
    "    if not matches.empty:\n",
    "        idx = matches.index[0]\n",
    "        query = df.loc[idx, 'tags']\n",
    "        query_vec = model.encode([query], convert_to_numpy=True)\n",
    "        _, I = index.search(query_vec, top_k + 1)\n",
    "        return df.iloc[I[0][1:]][['title', 'genres', 'synopsis']]\n",
    "\n",
    "    # Step 2: Fallback to closest title using RapidFuzz\n",
    "    all_titles = df['title'].fillna('').tolist()\n",
    "    best_match, score, idx = process.extractOne(title_query, all_titles)\n",
    "    print(f\"⚠️ Title not found. Using closest match: '{best_match}' (Score: {score:.2f})\")\n",
    "\n",
    "    query = df.loc[idx, 'tags']\n",
    "    query_vec = model.encode([query], convert_to_numpy=True)\n",
    "    _, I = index.search(query_vec, top_k + 1)\n",
    "    return df.iloc[I[0][1:]][['title', 'genres', 'synopsis']]"
   ]
  },
  {
   "cell_type": "code",
   "execution_count": 12,
   "id": "382df588-bdc9-469b-afee-b3e1b54f493c",
   "metadata": {},
   "outputs": [
    {
     "name": "stdout",
     "output_type": "stream",
     "text": [
      "⚠️ Title not found. Using closest match: 'to love-ru' (Score: 90.00)\n"
     ]
    },
    {
     "data": {
      "text/html": [
       "<div>\n",
       "<style scoped>\n",
       "    .dataframe tbody tr th:only-of-type {\n",
       "        vertical-align: middle;\n",
       "    }\n",
       "\n",
       "    .dataframe tbody tr th {\n",
       "        vertical-align: top;\n",
       "    }\n",
       "\n",
       "    .dataframe thead th {\n",
       "        text-align: right;\n",
       "    }\n",
       "</style>\n",
       "<table border=\"1\" class=\"dataframe\">\n",
       "  <thead>\n",
       "    <tr style=\"text-align: right;\">\n",
       "      <th></th>\n",
       "      <th>title</th>\n",
       "      <th>genres</th>\n",
       "      <th>synopsis</th>\n",
       "    </tr>\n",
       "  </thead>\n",
       "  <tbody>\n",
       "    <tr>\n",
       "      <th>5647</th>\n",
       "      <td>motto to love-ru</td>\n",
       "      <td>Comedy, Sci-Fi, Ecchi</td>\n",
       "      <td>Rito Yuuki never gets a break—he's always find...</td>\n",
       "    </tr>\n",
       "    <tr>\n",
       "      <th>9881</th>\n",
       "      <td>to love-ru darkness 2nd</td>\n",
       "      <td>Comedy, Romance, Sci-Fi, Ecchi</td>\n",
       "      <td>The dispassionate, transforming assassin Golde...</td>\n",
       "    </tr>\n",
       "    <tr>\n",
       "      <th>7000</th>\n",
       "      <td>to love-ru darkness</td>\n",
       "      <td>Comedy, Romance, Sci-Fi, Ecchi</td>\n",
       "      <td>As close encounters of the twisted kind betwee...</td>\n",
       "    </tr>\n",
       "    <tr>\n",
       "      <th>4256</th>\n",
       "      <td>to love-ru ova</td>\n",
       "      <td>Comedy, Sci-Fi, Ecchi</td>\n",
       "      <td>Episode 01: Rito becomes a Woman\\nLala invents...</td>\n",
       "    </tr>\n",
       "    <tr>\n",
       "      <th>4494</th>\n",
       "      <td>sasameki koto</td>\n",
       "      <td>Comedy, Girls Love, Romance</td>\n",
       "      <td>Murasame Sumika is popular in the high school ...</td>\n",
       "    </tr>\n",
       "    <tr>\n",
       "      <th>2692</th>\n",
       "      <td>utsukushiki sei no dendoushi reirei</td>\n",
       "      <td>Girls Love, Supernatural, Hentai</td>\n",
       "      <td>Sweat-soaked bodies writhe in passion as a nur...</td>\n",
       "    </tr>\n",
       "    <tr>\n",
       "      <th>3917</th>\n",
       "      <td>maria†holic</td>\n",
       "      <td>Comedy, Girls Love</td>\n",
       "      <td>In search of true love, Kanako Miyamae transfe...</td>\n",
       "    </tr>\n",
       "    <tr>\n",
       "      <th>1756</th>\n",
       "      <td>urusei yatsura movie 6: itsudatte my darling</td>\n",
       "      <td>Action, Adventure, Comedy, Drama, Romance, Sci-Fi</td>\n",
       "      <td>Lupica, another one of the legion of space pri...</td>\n",
       "    </tr>\n",
       "    <tr>\n",
       "      <th>11344</th>\n",
       "      <td>love live! sunshine!!</td>\n",
       "      <td>Slice of Life</td>\n",
       "      <td>Chika Takami, a self-proclaimed normal girl, h...</td>\n",
       "    </tr>\n",
       "    <tr>\n",
       "      <th>599</th>\n",
       "      <td>iketeru futari</td>\n",
       "      <td>Comedy, Romance, Ecchi</td>\n",
       "      <td>16-year old Keisuke Saji loves to fantasize ab...</td>\n",
       "    </tr>\n",
       "  </tbody>\n",
       "</table>\n",
       "</div>"
      ],
      "text/plain": [
       "                                              title  \\\n",
       "5647                               motto to love-ru   \n",
       "9881                        to love-ru darkness 2nd   \n",
       "7000                            to love-ru darkness   \n",
       "4256                                 to love-ru ova   \n",
       "4494                                  sasameki koto   \n",
       "2692            utsukushiki sei no dendoushi reirei   \n",
       "3917                                    maria†holic   \n",
       "1756   urusei yatsura movie 6: itsudatte my darling   \n",
       "11344                         love live! sunshine!!   \n",
       "599                                  iketeru futari   \n",
       "\n",
       "                                                  genres  \\\n",
       "5647                               Comedy, Sci-Fi, Ecchi   \n",
       "9881                      Comedy, Romance, Sci-Fi, Ecchi   \n",
       "7000                      Comedy, Romance, Sci-Fi, Ecchi   \n",
       "4256                               Comedy, Sci-Fi, Ecchi   \n",
       "4494                         Comedy, Girls Love, Romance   \n",
       "2692                    Girls Love, Supernatural, Hentai   \n",
       "3917                                  Comedy, Girls Love   \n",
       "1756   Action, Adventure, Comedy, Drama, Romance, Sci-Fi   \n",
       "11344                                      Slice of Life   \n",
       "599                               Comedy, Romance, Ecchi   \n",
       "\n",
       "                                                synopsis  \n",
       "5647   Rito Yuuki never gets a break—he's always find...  \n",
       "9881   The dispassionate, transforming assassin Golde...  \n",
       "7000   As close encounters of the twisted kind betwee...  \n",
       "4256   Episode 01: Rito becomes a Woman\\nLala invents...  \n",
       "4494   Murasame Sumika is popular in the high school ...  \n",
       "2692   Sweat-soaked bodies writhe in passion as a nur...  \n",
       "3917   In search of true love, Kanako Miyamae transfe...  \n",
       "1756   Lupica, another one of the legion of space pri...  \n",
       "11344  Chika Takami, a self-proclaimed normal girl, h...  \n",
       "599    16-year old Keisuke Saji loves to fantasize ab...  "
      ]
     },
     "execution_count": 12,
     "metadata": {},
     "output_type": "execute_result"
    }
   ],
   "source": [
    "recommend(\"to love ru\")"
   ]
  },
  {
   "cell_type": "code",
   "execution_count": null,
   "id": "8bfc4e77-4360-4dd3-87eb-c8caa18a999b",
   "metadata": {},
   "outputs": [],
   "source": []
  }
 ],
 "metadata": {
  "kernelspec": {
   "display_name": "Python 3 (ipykernel)",
   "language": "python",
   "name": "python3"
  },
  "language_info": {
   "codemirror_mode": {
    "name": "ipython",
    "version": 3
   },
   "file_extension": ".py",
   "mimetype": "text/x-python",
   "name": "python",
   "nbconvert_exporter": "python",
   "pygments_lexer": "ipython3",
   "version": "3.12.5"
  }
 },
 "nbformat": 4,
 "nbformat_minor": 5
}
